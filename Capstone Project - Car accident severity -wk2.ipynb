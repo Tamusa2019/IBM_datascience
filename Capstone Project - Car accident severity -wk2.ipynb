{
    "cells": [
        {
            "cell_type": "markdown",
            "metadata": {
                "collapsed": true
            },
            "source": "## Capstone Project - Car accident severity (Week 1)"
        },
        {
            "cell_type": "markdown",
            "metadata": {},
            "source": "## Introduction::"
        },
        {
            "cell_type": "markdown",
            "metadata": {},
            "source": "#### The Target in this project is to prevent avoidable car accidents by implementing algorithim that alert drivers, health system, and police to remind them to be more careful in critical situations. given the current weather, road and visibility conditions. When conditions are bad, this model will alert drivers to remind them to be more careful, and police rescue teams to be ready for such severe accidents."
        },
        {
            "cell_type": "markdown",
            "metadata": {},
            "source": "#### we want to analyze the accident \u201cseverity\u201d in terms of human fatality, traffic delay, property damage, or any other type of accident bad impact. The data was collected by Seattle SPOT Traffic Management Division and provided by Coursera via a link. \n"
        },
        {
            "cell_type": "markdown",
            "metadata": {},
            "source": "#### This dataset is updated weekly and is from 2004 to present. It contains information such as severity code, address type, location, collision type, weather, road condition, speeding, among others."
        },
        {
            "cell_type": "markdown",
            "metadata": {},
            "source": "### **The main reasons for the accidents::"
        },
        {
            "cell_type": "markdown",
            "metadata": {},
            "source": "  1-preventable; not paying enough attention during driving, abusing drugs and alcohol or driving at very high speed."
        },
        {
            "cell_type": "markdown",
            "metadata": {},
            "source": " 2-uncontrolled; weather, visibility, or road conditions"
        },
        {
            "cell_type": "markdown",
            "metadata": {},
            "source": "## Data Understanding::"
        },
        {
            "cell_type": "markdown",
            "metadata": {},
            "source": "The data was collected by the Seattle Police Department and Accident Traffic Records Department from 2004 to present. The data consists of 37 independent variables and 194,673 rows. The dependent variable, \u201cSEVERITYCODE\u201d, contains numbers that correspond to different levels of severity caused by an accident from 0 to 3.\n"
        },
        {
            "cell_type": "markdown",
            "metadata": {},
            "source": "**A code that corresponds to the severity of the collision:**<br>\n\u2022 3 \u2014 fatality <br>\n\u2022 2b \u2014 serious injury <br>\n\u2022 2 \u2014 injury <br>\n\u2022 1 \u2014 prop damage<br>\n\u2022 0 \u2014 unknown <br>"
        },
        {
            "cell_type": "markdown",
            "metadata": {},
            "source": "**The attributes i will use to make my model is (ADDRTYPE, WEATHER, ROADCOND, VEHCOUNT, PERSONCOUNT)** <br> and of course will do some data cleaning on the extracted data.\n"
        },
        {
            "cell_type": "code",
            "execution_count": 39,
            "metadata": {},
            "outputs": [],
            "source": "import pandas as pd\nimport numpy as np\nimport seaborn as sns\nimport matplotlib.pyplot as plt\nimport datetime as dt\nimport warnings\nfrom sklearn.utils import resample\nfrom sklearn import preprocessing\nfrom sklearn.model_selection import train_test_split"
        },
        {
            "cell_type": "code",
            "execution_count": 40,
            "metadata": {},
            "outputs": [
                {
                    "name": "stderr",
                    "output_type": "stream",
                    "text": "/opt/conda/envs/Python36/lib/python3.6/site-packages/IPython/core/interactiveshell.py:3020: DtypeWarning: Columns (33) have mixed types. Specify dtype option on import or set low_memory=False.\n  interactivity=interactivity, compiler=compiler, result=result)\n"
                },
                {
                    "data": {
                        "text/html": "<div>\n<style scoped>\n    .dataframe tbody tr th:only-of-type {\n        vertical-align: middle;\n    }\n\n    .dataframe tbody tr th {\n        vertical-align: top;\n    }\n\n    .dataframe thead th {\n        text-align: right;\n    }\n</style>\n<table border=\"1\" class=\"dataframe\">\n  <thead>\n    <tr style=\"text-align: right;\">\n      <th></th>\n      <th>SEVERITYCODE</th>\n      <th>X</th>\n      <th>Y</th>\n      <th>OBJECTID</th>\n      <th>INCKEY</th>\n      <th>COLDETKEY</th>\n      <th>REPORTNO</th>\n      <th>STATUS</th>\n      <th>ADDRTYPE</th>\n      <th>INTKEY</th>\n      <th>...</th>\n      <th>ROADCOND</th>\n      <th>LIGHTCOND</th>\n      <th>PEDROWNOTGRNT</th>\n      <th>SDOTCOLNUM</th>\n      <th>SPEEDING</th>\n      <th>ST_COLCODE</th>\n      <th>ST_COLDESC</th>\n      <th>SEGLANEKEY</th>\n      <th>CROSSWALKKEY</th>\n      <th>HITPARKEDCAR</th>\n    </tr>\n  </thead>\n  <tbody>\n    <tr>\n      <th>0</th>\n      <td>2</td>\n      <td>-122.323148</td>\n      <td>47.703140</td>\n      <td>1</td>\n      <td>1307</td>\n      <td>1307</td>\n      <td>3502005</td>\n      <td>Matched</td>\n      <td>Intersection</td>\n      <td>37475.0</td>\n      <td>...</td>\n      <td>Wet</td>\n      <td>Daylight</td>\n      <td>NaN</td>\n      <td>NaN</td>\n      <td>NaN</td>\n      <td>10</td>\n      <td>Entering at angle</td>\n      <td>0</td>\n      <td>0</td>\n      <td>N</td>\n    </tr>\n    <tr>\n      <th>1</th>\n      <td>1</td>\n      <td>-122.347294</td>\n      <td>47.647172</td>\n      <td>2</td>\n      <td>52200</td>\n      <td>52200</td>\n      <td>2607959</td>\n      <td>Matched</td>\n      <td>Block</td>\n      <td>NaN</td>\n      <td>...</td>\n      <td>Wet</td>\n      <td>Dark - Street Lights On</td>\n      <td>NaN</td>\n      <td>6354039.0</td>\n      <td>NaN</td>\n      <td>11</td>\n      <td>From same direction - both going straight - bo...</td>\n      <td>0</td>\n      <td>0</td>\n      <td>N</td>\n    </tr>\n    <tr>\n      <th>2</th>\n      <td>1</td>\n      <td>-122.334540</td>\n      <td>47.607871</td>\n      <td>3</td>\n      <td>26700</td>\n      <td>26700</td>\n      <td>1482393</td>\n      <td>Matched</td>\n      <td>Block</td>\n      <td>NaN</td>\n      <td>...</td>\n      <td>Dry</td>\n      <td>Daylight</td>\n      <td>NaN</td>\n      <td>4323031.0</td>\n      <td>NaN</td>\n      <td>32</td>\n      <td>One parked--one moving</td>\n      <td>0</td>\n      <td>0</td>\n      <td>N</td>\n    </tr>\n    <tr>\n      <th>3</th>\n      <td>1</td>\n      <td>-122.334803</td>\n      <td>47.604803</td>\n      <td>4</td>\n      <td>1144</td>\n      <td>1144</td>\n      <td>3503937</td>\n      <td>Matched</td>\n      <td>Block</td>\n      <td>NaN</td>\n      <td>...</td>\n      <td>Dry</td>\n      <td>Daylight</td>\n      <td>NaN</td>\n      <td>NaN</td>\n      <td>NaN</td>\n      <td>23</td>\n      <td>From same direction - all others</td>\n      <td>0</td>\n      <td>0</td>\n      <td>N</td>\n    </tr>\n    <tr>\n      <th>4</th>\n      <td>2</td>\n      <td>-122.306426</td>\n      <td>47.545739</td>\n      <td>5</td>\n      <td>17700</td>\n      <td>17700</td>\n      <td>1807429</td>\n      <td>Matched</td>\n      <td>Intersection</td>\n      <td>34387.0</td>\n      <td>...</td>\n      <td>Wet</td>\n      <td>Daylight</td>\n      <td>NaN</td>\n      <td>4028032.0</td>\n      <td>NaN</td>\n      <td>10</td>\n      <td>Entering at angle</td>\n      <td>0</td>\n      <td>0</td>\n      <td>N</td>\n    </tr>\n  </tbody>\n</table>\n<p>5 rows \u00d7 38 columns</p>\n</div>",
                        "text/plain": "   SEVERITYCODE           X          Y  OBJECTID  INCKEY  COLDETKEY REPORTNO  \\\n0             2 -122.323148  47.703140         1    1307       1307  3502005   \n1             1 -122.347294  47.647172         2   52200      52200  2607959   \n2             1 -122.334540  47.607871         3   26700      26700  1482393   \n3             1 -122.334803  47.604803         4    1144       1144  3503937   \n4             2 -122.306426  47.545739         5   17700      17700  1807429   \n\n    STATUS      ADDRTYPE   INTKEY  ... ROADCOND                LIGHTCOND  \\\n0  Matched  Intersection  37475.0  ...      Wet                 Daylight   \n1  Matched         Block      NaN  ...      Wet  Dark - Street Lights On   \n2  Matched         Block      NaN  ...      Dry                 Daylight   \n3  Matched         Block      NaN  ...      Dry                 Daylight   \n4  Matched  Intersection  34387.0  ...      Wet                 Daylight   \n\n  PEDROWNOTGRNT  SDOTCOLNUM SPEEDING ST_COLCODE  \\\n0           NaN         NaN      NaN         10   \n1           NaN   6354039.0      NaN         11   \n2           NaN   4323031.0      NaN         32   \n3           NaN         NaN      NaN         23   \n4           NaN   4028032.0      NaN         10   \n\n                                          ST_COLDESC  SEGLANEKEY  \\\n0                                  Entering at angle           0   \n1  From same direction - both going straight - bo...           0   \n2                             One parked--one moving           0   \n3                   From same direction - all others           0   \n4                                  Entering at angle           0   \n\n   CROSSWALKKEY  HITPARKEDCAR  \n0             0             N  \n1             0             N  \n2             0             N  \n3             0             N  \n4             0             N  \n\n[5 rows x 38 columns]"
                    },
                    "execution_count": 40,
                    "metadata": {},
                    "output_type": "execute_result"
                }
            ],
            "source": "url = \"https://s3.us.cloud-object-storage.appdomain.cloud/cf-courses-data/CognitiveClass/DP0701EN/version-2/Data-Collisions.csv\"\ndf = pd.read_csv(url)\n\ndf.head()"
        },
        {
            "cell_type": "code",
            "execution_count": 41,
            "metadata": {},
            "outputs": [
                {
                    "data": {
                        "text/html": "<div>\n<style scoped>\n    .dataframe tbody tr th:only-of-type {\n        vertical-align: middle;\n    }\n\n    .dataframe tbody tr th {\n        vertical-align: top;\n    }\n\n    .dataframe thead th {\n        text-align: right;\n    }\n</style>\n<table border=\"1\" class=\"dataframe\">\n  <thead>\n    <tr style=\"text-align: right;\">\n      <th></th>\n      <th>SEVERITYCODE</th>\n      <th>X</th>\n      <th>Y</th>\n      <th>OBJECTID</th>\n      <th>INCKEY</th>\n      <th>COLDETKEY</th>\n      <th>INTKEY</th>\n      <th>SEVERITYCODE.1</th>\n      <th>PERSONCOUNT</th>\n      <th>PEDCOUNT</th>\n      <th>PEDCYLCOUNT</th>\n      <th>VEHCOUNT</th>\n      <th>SDOT_COLCODE</th>\n      <th>SDOTCOLNUM</th>\n      <th>SEGLANEKEY</th>\n      <th>CROSSWALKKEY</th>\n    </tr>\n  </thead>\n  <tbody>\n    <tr>\n      <th>count</th>\n      <td>194673.000000</td>\n      <td>189339.000000</td>\n      <td>189339.000000</td>\n      <td>194673.000000</td>\n      <td>194673.000000</td>\n      <td>194673.000000</td>\n      <td>65070.000000</td>\n      <td>194673.000000</td>\n      <td>194673.000000</td>\n      <td>194673.000000</td>\n      <td>194673.000000</td>\n      <td>194673.000000</td>\n      <td>194673.000000</td>\n      <td>1.149360e+05</td>\n      <td>194673.000000</td>\n      <td>1.946730e+05</td>\n    </tr>\n    <tr>\n      <th>mean</th>\n      <td>1.298901</td>\n      <td>-122.330518</td>\n      <td>47.619543</td>\n      <td>108479.364930</td>\n      <td>141091.456350</td>\n      <td>141298.811381</td>\n      <td>37558.450576</td>\n      <td>1.298901</td>\n      <td>2.444427</td>\n      <td>0.037139</td>\n      <td>0.028391</td>\n      <td>1.920780</td>\n      <td>13.867768</td>\n      <td>7.972521e+06</td>\n      <td>269.401114</td>\n      <td>9.782452e+03</td>\n    </tr>\n    <tr>\n      <th>std</th>\n      <td>0.457778</td>\n      <td>0.029976</td>\n      <td>0.056157</td>\n      <td>62649.722558</td>\n      <td>86634.402737</td>\n      <td>86986.542110</td>\n      <td>51745.990273</td>\n      <td>0.457778</td>\n      <td>1.345929</td>\n      <td>0.198150</td>\n      <td>0.167413</td>\n      <td>0.631047</td>\n      <td>6.868755</td>\n      <td>2.553533e+06</td>\n      <td>3315.776055</td>\n      <td>7.226926e+04</td>\n    </tr>\n    <tr>\n      <th>min</th>\n      <td>1.000000</td>\n      <td>-122.419091</td>\n      <td>47.495573</td>\n      <td>1.000000</td>\n      <td>1001.000000</td>\n      <td>1001.000000</td>\n      <td>23807.000000</td>\n      <td>1.000000</td>\n      <td>0.000000</td>\n      <td>0.000000</td>\n      <td>0.000000</td>\n      <td>0.000000</td>\n      <td>0.000000</td>\n      <td>1.007024e+06</td>\n      <td>0.000000</td>\n      <td>0.000000e+00</td>\n    </tr>\n    <tr>\n      <th>25%</th>\n      <td>1.000000</td>\n      <td>-122.348673</td>\n      <td>47.575956</td>\n      <td>54267.000000</td>\n      <td>70383.000000</td>\n      <td>70383.000000</td>\n      <td>28667.000000</td>\n      <td>1.000000</td>\n      <td>2.000000</td>\n      <td>0.000000</td>\n      <td>0.000000</td>\n      <td>2.000000</td>\n      <td>11.000000</td>\n      <td>6.040015e+06</td>\n      <td>0.000000</td>\n      <td>0.000000e+00</td>\n    </tr>\n    <tr>\n      <th>50%</th>\n      <td>1.000000</td>\n      <td>-122.330224</td>\n      <td>47.615369</td>\n      <td>106912.000000</td>\n      <td>123363.000000</td>\n      <td>123363.000000</td>\n      <td>29973.000000</td>\n      <td>1.000000</td>\n      <td>2.000000</td>\n      <td>0.000000</td>\n      <td>0.000000</td>\n      <td>2.000000</td>\n      <td>13.000000</td>\n      <td>8.023022e+06</td>\n      <td>0.000000</td>\n      <td>0.000000e+00</td>\n    </tr>\n    <tr>\n      <th>75%</th>\n      <td>2.000000</td>\n      <td>-122.311937</td>\n      <td>47.663664</td>\n      <td>162272.000000</td>\n      <td>203319.000000</td>\n      <td>203459.000000</td>\n      <td>33973.000000</td>\n      <td>2.000000</td>\n      <td>3.000000</td>\n      <td>0.000000</td>\n      <td>0.000000</td>\n      <td>2.000000</td>\n      <td>14.000000</td>\n      <td>1.015501e+07</td>\n      <td>0.000000</td>\n      <td>0.000000e+00</td>\n    </tr>\n    <tr>\n      <th>max</th>\n      <td>2.000000</td>\n      <td>-122.238949</td>\n      <td>47.734142</td>\n      <td>219547.000000</td>\n      <td>331454.000000</td>\n      <td>332954.000000</td>\n      <td>757580.000000</td>\n      <td>2.000000</td>\n      <td>81.000000</td>\n      <td>6.000000</td>\n      <td>2.000000</td>\n      <td>12.000000</td>\n      <td>69.000000</td>\n      <td>1.307202e+07</td>\n      <td>525241.000000</td>\n      <td>5.239700e+06</td>\n    </tr>\n  </tbody>\n</table>\n</div>",
                        "text/plain": "        SEVERITYCODE              X              Y       OBJECTID  \\\ncount  194673.000000  189339.000000  189339.000000  194673.000000   \nmean        1.298901    -122.330518      47.619543  108479.364930   \nstd         0.457778       0.029976       0.056157   62649.722558   \nmin         1.000000    -122.419091      47.495573       1.000000   \n25%         1.000000    -122.348673      47.575956   54267.000000   \n50%         1.000000    -122.330224      47.615369  106912.000000   \n75%         2.000000    -122.311937      47.663664  162272.000000   \nmax         2.000000    -122.238949      47.734142  219547.000000   \n\n              INCKEY      COLDETKEY         INTKEY  SEVERITYCODE.1  \\\ncount  194673.000000  194673.000000   65070.000000   194673.000000   \nmean   141091.456350  141298.811381   37558.450576        1.298901   \nstd     86634.402737   86986.542110   51745.990273        0.457778   \nmin      1001.000000    1001.000000   23807.000000        1.000000   \n25%     70383.000000   70383.000000   28667.000000        1.000000   \n50%    123363.000000  123363.000000   29973.000000        1.000000   \n75%    203319.000000  203459.000000   33973.000000        2.000000   \nmax    331454.000000  332954.000000  757580.000000        2.000000   \n\n         PERSONCOUNT       PEDCOUNT    PEDCYLCOUNT       VEHCOUNT  \\\ncount  194673.000000  194673.000000  194673.000000  194673.000000   \nmean        2.444427       0.037139       0.028391       1.920780   \nstd         1.345929       0.198150       0.167413       0.631047   \nmin         0.000000       0.000000       0.000000       0.000000   \n25%         2.000000       0.000000       0.000000       2.000000   \n50%         2.000000       0.000000       0.000000       2.000000   \n75%         3.000000       0.000000       0.000000       2.000000   \nmax        81.000000       6.000000       2.000000      12.000000   \n\n        SDOT_COLCODE    SDOTCOLNUM     SEGLANEKEY  CROSSWALKKEY  \ncount  194673.000000  1.149360e+05  194673.000000  1.946730e+05  \nmean       13.867768  7.972521e+06     269.401114  9.782452e+03  \nstd         6.868755  2.553533e+06    3315.776055  7.226926e+04  \nmin         0.000000  1.007024e+06       0.000000  0.000000e+00  \n25%        11.000000  6.040015e+06       0.000000  0.000000e+00  \n50%        13.000000  8.023022e+06       0.000000  0.000000e+00  \n75%        14.000000  1.015501e+07       0.000000  0.000000e+00  \nmax        69.000000  1.307202e+07  525241.000000  5.239700e+06  "
                    },
                    "execution_count": 41,
                    "metadata": {},
                    "output_type": "execute_result"
                }
            ],
            "source": "df.describe()"
        },
        {
            "cell_type": "code",
            "execution_count": 42,
            "metadata": {},
            "outputs": [
                {
                    "data": {
                        "text/plain": "(194673, 38)"
                    },
                    "execution_count": 42,
                    "metadata": {},
                    "output_type": "execute_result"
                }
            ],
            "source": "df.shape"
        },
        {
            "cell_type": "markdown",
            "metadata": {},
            "source": "## print the columns in the dataset to pick the columns data we will use for the model"
        },
        {
            "cell_type": "code",
            "execution_count": 43,
            "metadata": {},
            "outputs": [
                {
                    "data": {
                        "text/plain": "Index(['SEVERITYCODE', 'X', 'Y', 'OBJECTID', 'INCKEY', 'COLDETKEY', 'REPORTNO',\n       'STATUS', 'ADDRTYPE', 'INTKEY', 'LOCATION', 'EXCEPTRSNCODE',\n       'EXCEPTRSNDESC', 'SEVERITYCODE.1', 'SEVERITYDESC', 'COLLISIONTYPE',\n       'PERSONCOUNT', 'PEDCOUNT', 'PEDCYLCOUNT', 'VEHCOUNT', 'INCDATE',\n       'INCDTTM', 'JUNCTIONTYPE', 'SDOT_COLCODE', 'SDOT_COLDESC',\n       'INATTENTIONIND', 'UNDERINFL', 'WEATHER', 'ROADCOND', 'LIGHTCOND',\n       'PEDROWNOTGRNT', 'SDOTCOLNUM', 'SPEEDING', 'ST_COLCODE', 'ST_COLDESC',\n       'SEGLANEKEY', 'CROSSWALKKEY', 'HITPARKEDCAR'],\n      dtype='object')"
                    },
                    "execution_count": 43,
                    "metadata": {},
                    "output_type": "execute_result"
                }
            ],
            "source": "df.columns"
        },
        {
            "cell_type": "markdown",
            "metadata": {},
            "source": "## pick the columns from the dataset, we will use in the prediction model;;"
        },
        {
            "cell_type": "code",
            "execution_count": 44,
            "metadata": {},
            "outputs": [
                {
                    "data": {
                        "text/html": "<div>\n<style scoped>\n    .dataframe tbody tr th:only-of-type {\n        vertical-align: middle;\n    }\n\n    .dataframe tbody tr th {\n        vertical-align: top;\n    }\n\n    .dataframe thead th {\n        text-align: right;\n    }\n</style>\n<table border=\"1\" class=\"dataframe\">\n  <thead>\n    <tr style=\"text-align: right;\">\n      <th></th>\n      <th>SEVERITYCODE</th>\n      <th>WEATHER</th>\n      <th>ROADCOND</th>\n      <th>LIGHTCOND</th>\n      <th>VEHCOUNT</th>\n      <th>ADDRTYPE</th>\n      <th>PERSONCOUNT</th>\n    </tr>\n  </thead>\n  <tbody>\n    <tr>\n      <th>0</th>\n      <td>2</td>\n      <td>Overcast</td>\n      <td>Wet</td>\n      <td>Daylight</td>\n      <td>2</td>\n      <td>Intersection</td>\n      <td>2</td>\n    </tr>\n    <tr>\n      <th>1</th>\n      <td>1</td>\n      <td>Raining</td>\n      <td>Wet</td>\n      <td>Dark - Street Lights On</td>\n      <td>2</td>\n      <td>Block</td>\n      <td>2</td>\n    </tr>\n    <tr>\n      <th>2</th>\n      <td>1</td>\n      <td>Overcast</td>\n      <td>Dry</td>\n      <td>Daylight</td>\n      <td>3</td>\n      <td>Block</td>\n      <td>4</td>\n    </tr>\n    <tr>\n      <th>3</th>\n      <td>1</td>\n      <td>Clear</td>\n      <td>Dry</td>\n      <td>Daylight</td>\n      <td>3</td>\n      <td>Block</td>\n      <td>3</td>\n    </tr>\n    <tr>\n      <th>4</th>\n      <td>2</td>\n      <td>Raining</td>\n      <td>Wet</td>\n      <td>Daylight</td>\n      <td>2</td>\n      <td>Intersection</td>\n      <td>2</td>\n    </tr>\n    <tr>\n      <th>5</th>\n      <td>1</td>\n      <td>Clear</td>\n      <td>Dry</td>\n      <td>Daylight</td>\n      <td>2</td>\n      <td>Intersection</td>\n      <td>2</td>\n    </tr>\n    <tr>\n      <th>6</th>\n      <td>1</td>\n      <td>Raining</td>\n      <td>Wet</td>\n      <td>Daylight</td>\n      <td>2</td>\n      <td>Intersection</td>\n      <td>2</td>\n    </tr>\n    <tr>\n      <th>7</th>\n      <td>2</td>\n      <td>Clear</td>\n      <td>Dry</td>\n      <td>Daylight</td>\n      <td>1</td>\n      <td>Intersection</td>\n      <td>3</td>\n    </tr>\n    <tr>\n      <th>8</th>\n      <td>1</td>\n      <td>Clear</td>\n      <td>Dry</td>\n      <td>Daylight</td>\n      <td>2</td>\n      <td>Block</td>\n      <td>2</td>\n    </tr>\n    <tr>\n      <th>9</th>\n      <td>2</td>\n      <td>Clear</td>\n      <td>Dry</td>\n      <td>Daylight</td>\n      <td>2</td>\n      <td>Intersection</td>\n      <td>2</td>\n    </tr>\n    <tr>\n      <th>10</th>\n      <td>1</td>\n      <td>Overcast</td>\n      <td>Dry</td>\n      <td>Daylight</td>\n      <td>2</td>\n      <td>Alley</td>\n      <td>2</td>\n    </tr>\n    <tr>\n      <th>11</th>\n      <td>1</td>\n      <td>Clear</td>\n      <td>Dry</td>\n      <td>Daylight</td>\n      <td>2</td>\n      <td>Intersection</td>\n      <td>2</td>\n    </tr>\n    <tr>\n      <th>12</th>\n      <td>1</td>\n      <td>Raining</td>\n      <td>Wet</td>\n      <td>Dark - Street Lights On</td>\n      <td>2</td>\n      <td>Block</td>\n      <td>0</td>\n    </tr>\n    <tr>\n      <th>13</th>\n      <td>1</td>\n      <td>Raining</td>\n      <td>Wet</td>\n      <td>Dark - No Street Lights</td>\n      <td>2</td>\n      <td>Block</td>\n      <td>2</td>\n    </tr>\n    <tr>\n      <th>14</th>\n      <td>2</td>\n      <td>Clear</td>\n      <td>Dry</td>\n      <td>Dark - Street Lights On</td>\n      <td>2</td>\n      <td>Block</td>\n      <td>2</td>\n    </tr>\n  </tbody>\n</table>\n</div>",
                        "text/plain": "    SEVERITYCODE   WEATHER ROADCOND                LIGHTCOND  VEHCOUNT  \\\n0              2  Overcast      Wet                 Daylight         2   \n1              1   Raining      Wet  Dark - Street Lights On         2   \n2              1  Overcast      Dry                 Daylight         3   \n3              1     Clear      Dry                 Daylight         3   \n4              2   Raining      Wet                 Daylight         2   \n5              1     Clear      Dry                 Daylight         2   \n6              1   Raining      Wet                 Daylight         2   \n7              2     Clear      Dry                 Daylight         1   \n8              1     Clear      Dry                 Daylight         2   \n9              2     Clear      Dry                 Daylight         2   \n10             1  Overcast      Dry                 Daylight         2   \n11             1     Clear      Dry                 Daylight         2   \n12             1   Raining      Wet  Dark - Street Lights On         2   \n13             1   Raining      Wet  Dark - No Street Lights         2   \n14             2     Clear      Dry  Dark - Street Lights On         2   \n\n        ADDRTYPE  PERSONCOUNT  \n0   Intersection            2  \n1          Block            2  \n2          Block            4  \n3          Block            3  \n4   Intersection            2  \n5   Intersection            2  \n6   Intersection            2  \n7   Intersection            3  \n8          Block            2  \n9   Intersection            2  \n10         Alley            2  \n11  Intersection            2  \n12         Block            0  \n13         Block            2  \n14         Block            2  "
                    },
                    "execution_count": 44,
                    "metadata": {},
                    "output_type": "execute_result"
                }
            ],
            "source": "df = df.loc[:,['SEVERITYCODE','WEATHER','ROADCOND','LIGHTCOND','VEHCOUNT','ADDRTYPE','PERSONCOUNT']]\ndf.dropna(inplace=True)\ndf.head(15)"
        },
        {
            "cell_type": "code",
            "execution_count": 45,
            "metadata": {},
            "outputs": [
                {
                    "data": {
                        "text/plain": "(187525, 7)"
                    },
                    "execution_count": 45,
                    "metadata": {},
                    "output_type": "execute_result"
                }
            ],
            "source": "# the new size of the dataset:\ndf.shape"
        },
        {
            "cell_type": "code",
            "execution_count": 46,
            "metadata": {},
            "outputs": [
                {
                    "name": "stdout",
                    "output_type": "stream",
                    "text": "<class 'pandas.core.frame.DataFrame'>\nInt64Index: 187525 entries, 0 to 194672\nData columns (total 7 columns):\nSEVERITYCODE    187525 non-null int64\nWEATHER         187525 non-null object\nROADCOND        187525 non-null object\nLIGHTCOND       187525 non-null object\nVEHCOUNT        187525 non-null int64\nADDRTYPE        187525 non-null object\nPERSONCOUNT     187525 non-null int64\ndtypes: int64(3), object(4)\nmemory usage: 11.4+ MB\n"
                }
            ],
            "source": "df.info()"
        },
        {
            "cell_type": "code",
            "execution_count": 53,
            "metadata": {},
            "outputs": [
                {
                    "data": {
                        "text/html": "<div>\n<style scoped>\n    .dataframe tbody tr th:only-of-type {\n        vertical-align: middle;\n    }\n\n    .dataframe tbody tr th {\n        vertical-align: top;\n    }\n\n    .dataframe thead th {\n        text-align: right;\n    }\n</style>\n<table border=\"1\" class=\"dataframe\">\n  <thead>\n    <tr style=\"text-align: right;\">\n      <th></th>\n      <th>SEVERITYCODE</th>\n    </tr>\n  </thead>\n  <tbody>\n    <tr>\n      <th>1</th>\n      <td>130642</td>\n    </tr>\n    <tr>\n      <th>2</th>\n      <td>56883</td>\n    </tr>\n  </tbody>\n</table>\n</div>",
                        "text/plain": "   SEVERITYCODE\n1        130642\n2         56883"
                    },
                    "execution_count": 53,
                    "metadata": {},
                    "output_type": "execute_result"
                }
            ],
            "source": "df['SEVERITYCODE','WEATHER','ROADCOND','LIGHTCOND','VEHCOUNT','ADDRTYPE','PERSONCOUNT'].value_counts().to_frame()"
        },
        {
            "cell_type": "code",
            "execution_count": 54,
            "metadata": {},
            "outputs": [
                {
                    "data": {
                        "text/html": "<div>\n<style scoped>\n    .dataframe tbody tr th:only-of-type {\n        vertical-align: middle;\n    }\n\n    .dataframe tbody tr th {\n        vertical-align: top;\n    }\n\n    .dataframe thead th {\n        text-align: right;\n    }\n</style>\n<table border=\"1\" class=\"dataframe\">\n  <thead>\n    <tr style=\"text-align: right;\">\n      <th></th>\n      <th>WEATHER</th>\n    </tr>\n  </thead>\n  <tbody>\n    <tr>\n      <th>Clear</th>\n      <td>110499</td>\n    </tr>\n    <tr>\n      <th>Raining</th>\n      <td>32976</td>\n    </tr>\n    <tr>\n      <th>Overcast</th>\n      <td>27551</td>\n    </tr>\n    <tr>\n      <th>Unknown</th>\n      <td>14059</td>\n    </tr>\n    <tr>\n      <th>Snowing</th>\n      <td>896</td>\n    </tr>\n    <tr>\n      <th>Other</th>\n      <td>790</td>\n    </tr>\n    <tr>\n      <th>Fog/Smog/Smoke</th>\n      <td>563</td>\n    </tr>\n    <tr>\n      <th>Sleet/Hail/Freezing Rain</th>\n      <td>112</td>\n    </tr>\n    <tr>\n      <th>Blowing Sand/Dirt</th>\n      <td>49</td>\n    </tr>\n    <tr>\n      <th>Severe Crosswind</th>\n      <td>25</td>\n    </tr>\n    <tr>\n      <th>Partly Cloudy</th>\n      <td>5</td>\n    </tr>\n  </tbody>\n</table>\n</div>",
                        "text/plain": "                          WEATHER\nClear                      110499\nRaining                     32976\nOvercast                    27551\nUnknown                     14059\nSnowing                       896\nOther                         790\nFog/Smog/Smoke                563\nSleet/Hail/Freezing Rain      112\nBlowing Sand/Dirt              49\nSevere Crosswind               25\nPartly Cloudy                   5"
                    },
                    "execution_count": 54,
                    "metadata": {},
                    "output_type": "execute_result"
                }
            ],
            "source": "df['WEATHER'].value_counts().to_frame()"
        },
        {
            "cell_type": "code",
            "execution_count": 62,
            "metadata": {},
            "outputs": [
                {
                    "data": {
                        "text/html": "<div>\n<style scoped>\n    .dataframe tbody tr th:only-of-type {\n        vertical-align: middle;\n    }\n\n    .dataframe tbody tr th {\n        vertical-align: top;\n    }\n\n    .dataframe thead th {\n        text-align: right;\n    }\n</style>\n<table border=\"1\" class=\"dataframe\">\n  <thead>\n    <tr style=\"text-align: right;\">\n      <th></th>\n      <th>WEATHER_X</th>\n    </tr>\n  </thead>\n  <tbody>\n    <tr>\n      <th>1</th>\n      <td>110499</td>\n    </tr>\n    <tr>\n      <th>2</th>\n      <td>32976</td>\n    </tr>\n    <tr>\n      <th>3</th>\n      <td>27551</td>\n    </tr>\n    <tr>\n      <th>0</th>\n      <td>14059</td>\n    </tr>\n    <tr>\n      <th>4</th>\n      <td>896</td>\n    </tr>\n    <tr>\n      <th>5</th>\n      <td>790</td>\n    </tr>\n    <tr>\n      <th>6</th>\n      <td>563</td>\n    </tr>\n    <tr>\n      <th>7</th>\n      <td>112</td>\n    </tr>\n    <tr>\n      <th>8</th>\n      <td>49</td>\n    </tr>\n    <tr>\n      <th>9</th>\n      <td>25</td>\n    </tr>\n    <tr>\n      <th>10</th>\n      <td>5</td>\n    </tr>\n  </tbody>\n</table>\n</div>",
                        "text/plain": "    WEATHER_X\n1      110499\n2       32976\n3       27551\n0       14059\n4         896\n5         790\n6         563\n7         112\n8          49\n9          25\n10          5"
                    },
                    "execution_count": 62,
                    "metadata": {},
                    "output_type": "execute_result"
                }
            ],
            "source": "filt_wth = {'Clear':1,'Raining':2,'Overcast':3,'Unknown':0,'Snowing':4,'Other':5,'Fog/Smog/Smoke':6,\n         'Sleet/Hail/Freezing Rain':7,'Blowing Sand/Dirt':8,'Severe Crosswind':9,'Partly Cloudy':10}\ndf['WEATHER_X'] = df['WEATHER'].replace(filt_wth)\ndf['WEATHER_X'].value_counts().to_frame()"
        },
        {
            "cell_type": "code",
            "execution_count": 55,
            "metadata": {},
            "outputs": [
                {
                    "data": {
                        "text/html": "<div>\n<style scoped>\n    .dataframe tbody tr th:only-of-type {\n        vertical-align: middle;\n    }\n\n    .dataframe tbody tr th {\n        vertical-align: top;\n    }\n\n    .dataframe thead th {\n        text-align: right;\n    }\n</style>\n<table border=\"1\" class=\"dataframe\">\n  <thead>\n    <tr style=\"text-align: right;\">\n      <th></th>\n      <th>ROADCOND</th>\n    </tr>\n  </thead>\n  <tbody>\n    <tr>\n      <th>Dry</th>\n      <td>123736</td>\n    </tr>\n    <tr>\n      <th>Wet</th>\n      <td>47223</td>\n    </tr>\n    <tr>\n      <th>Unknown</th>\n      <td>14009</td>\n    </tr>\n    <tr>\n      <th>Ice</th>\n      <td>1193</td>\n    </tr>\n    <tr>\n      <th>Snow/Slush</th>\n      <td>992</td>\n    </tr>\n    <tr>\n      <th>Other</th>\n      <td>124</td>\n    </tr>\n    <tr>\n      <th>Standing Water</th>\n      <td>111</td>\n    </tr>\n    <tr>\n      <th>Sand/Mud/Dirt</th>\n      <td>73</td>\n    </tr>\n    <tr>\n      <th>Oil</th>\n      <td>64</td>\n    </tr>\n  </tbody>\n</table>\n</div>",
                        "text/plain": "                ROADCOND\nDry               123736\nWet                47223\nUnknown            14009\nIce                 1193\nSnow/Slush           992\nOther                124\nStanding Water       111\nSand/Mud/Dirt         73\nOil                   64"
                    },
                    "execution_count": 55,
                    "metadata": {},
                    "output_type": "execute_result"
                }
            ],
            "source": "df['ROADCOND'].value_counts().to_frame()"
        },
        {
            "cell_type": "code",
            "execution_count": 63,
            "metadata": {},
            "outputs": [
                {
                    "data": {
                        "text/html": "<div>\n<style scoped>\n    .dataframe tbody tr th:only-of-type {\n        vertical-align: middle;\n    }\n\n    .dataframe tbody tr th {\n        vertical-align: top;\n    }\n\n    .dataframe thead th {\n        text-align: right;\n    }\n</style>\n<table border=\"1\" class=\"dataframe\">\n  <thead>\n    <tr style=\"text-align: right;\">\n      <th></th>\n      <th>ROADCOND_X</th>\n    </tr>\n  </thead>\n  <tbody>\n    <tr>\n      <th>1</th>\n      <td>123736</td>\n    </tr>\n    <tr>\n      <th>2</th>\n      <td>47223</td>\n    </tr>\n    <tr>\n      <th>0</th>\n      <td>14009</td>\n    </tr>\n    <tr>\n      <th>3</th>\n      <td>1193</td>\n    </tr>\n    <tr>\n      <th>4</th>\n      <td>992</td>\n    </tr>\n    <tr>\n      <th>5</th>\n      <td>124</td>\n    </tr>\n    <tr>\n      <th>6</th>\n      <td>111</td>\n    </tr>\n    <tr>\n      <th>7</th>\n      <td>73</td>\n    </tr>\n    <tr>\n      <th>8</th>\n      <td>64</td>\n    </tr>\n  </tbody>\n</table>\n</div>",
                        "text/plain": "   ROADCOND_X\n1      123736\n2       47223\n0       14009\n3        1193\n4         992\n5         124\n6         111\n7          73\n8          64"
                    },
                    "execution_count": 63,
                    "metadata": {},
                    "output_type": "execute_result"
                }
            ],
            "source": "\nfilt_rd = {'Dry':1,'Wet':2,'Unknown':0,'Ice':3,'Snow/Slush':4,'Other':5,'Standing Water':6,'Sand/Mud/Dirt':7,'Oil':8}\ndf['ROADCOND_X'] = df['ROADCOND'].replace(filt_rd)\ndf['ROADCOND_X'].value_counts().to_frame()"
        },
        {
            "cell_type": "code",
            "execution_count": 56,
            "metadata": {},
            "outputs": [
                {
                    "data": {
                        "text/html": "<div>\n<style scoped>\n    .dataframe tbody tr th:only-of-type {\n        vertical-align: middle;\n    }\n\n    .dataframe tbody tr th {\n        vertical-align: top;\n    }\n\n    .dataframe thead th {\n        text-align: right;\n    }\n</style>\n<table border=\"1\" class=\"dataframe\">\n  <thead>\n    <tr style=\"text-align: right;\">\n      <th></th>\n      <th>LIGHTCOND</th>\n    </tr>\n  </thead>\n  <tbody>\n    <tr>\n      <th>Daylight</th>\n      <td>115408</td>\n    </tr>\n    <tr>\n      <th>Dark - Street Lights On</th>\n      <td>48236</td>\n    </tr>\n    <tr>\n      <th>Unknown</th>\n      <td>12599</td>\n    </tr>\n    <tr>\n      <th>Dusk</th>\n      <td>5843</td>\n    </tr>\n    <tr>\n      <th>Dawn</th>\n      <td>2491</td>\n    </tr>\n    <tr>\n      <th>Dark - No Street Lights</th>\n      <td>1526</td>\n    </tr>\n    <tr>\n      <th>Dark - Street Lights Off</th>\n      <td>1184</td>\n    </tr>\n    <tr>\n      <th>Other</th>\n      <td>227</td>\n    </tr>\n    <tr>\n      <th>Dark - Unknown Lighting</th>\n      <td>11</td>\n    </tr>\n  </tbody>\n</table>\n</div>",
                        "text/plain": "                          LIGHTCOND\nDaylight                     115408\nDark - Street Lights On       48236\nUnknown                       12599\nDusk                           5843\nDawn                           2491\nDark - No Street Lights        1526\nDark - Street Lights Off       1184\nOther                           227\nDark - Unknown Lighting          11"
                    },
                    "execution_count": 56,
                    "metadata": {},
                    "output_type": "execute_result"
                }
            ],
            "source": "df['LIGHTCOND'].value_counts().to_frame()"
        },
        {
            "cell_type": "code",
            "execution_count": 64,
            "metadata": {},
            "outputs": [
                {
                    "data": {
                        "text/html": "<div>\n<style scoped>\n    .dataframe tbody tr th:only-of-type {\n        vertical-align: middle;\n    }\n\n    .dataframe tbody tr th {\n        vertical-align: top;\n    }\n\n    .dataframe thead th {\n        text-align: right;\n    }\n</style>\n<table border=\"1\" class=\"dataframe\">\n  <thead>\n    <tr style=\"text-align: right;\">\n      <th></th>\n      <th>LIGHTCOND_X</th>\n    </tr>\n  </thead>\n  <tbody>\n    <tr>\n      <th>1</th>\n      <td>115408</td>\n    </tr>\n    <tr>\n      <th>2</th>\n      <td>48236</td>\n    </tr>\n    <tr>\n      <th>0</th>\n      <td>12599</td>\n    </tr>\n    <tr>\n      <th>3</th>\n      <td>5843</td>\n    </tr>\n    <tr>\n      <th>4</th>\n      <td>2491</td>\n    </tr>\n    <tr>\n      <th>5</th>\n      <td>1526</td>\n    </tr>\n    <tr>\n      <th>6</th>\n      <td>1184</td>\n    </tr>\n    <tr>\n      <th>7</th>\n      <td>227</td>\n    </tr>\n    <tr>\n      <th>8</th>\n      <td>11</td>\n    </tr>\n  </tbody>\n</table>\n</div>",
                        "text/plain": "   LIGHTCOND_X\n1       115408\n2        48236\n0        12599\n3         5843\n4         2491\n5         1526\n6         1184\n7          227\n8           11"
                    },
                    "execution_count": 64,
                    "metadata": {},
                    "output_type": "execute_result"
                }
            ],
            "source": "\nfilt_lt = {'Daylight':1,'Dark - Street Lights On':2,'Unknown':0,'Dusk':3,'Dawn':4,'Dark - No Street Lights':5,\n         'Dark - Street Lights Off':6,'Other':7,'Dark - Unknown Lighting':8}\ndf['LIGHTCOND_X'] = df['LIGHTCOND'].replace(filt_lt)\ndf['LIGHTCOND_X'].value_counts().to_frame()"
        },
        {
            "cell_type": "code",
            "execution_count": 57,
            "metadata": {},
            "outputs": [
                {
                    "data": {
                        "text/html": "<div>\n<style scoped>\n    .dataframe tbody tr th:only-of-type {\n        vertical-align: middle;\n    }\n\n    .dataframe tbody tr th {\n        vertical-align: top;\n    }\n\n    .dataframe thead th {\n        text-align: right;\n    }\n</style>\n<table border=\"1\" class=\"dataframe\">\n  <thead>\n    <tr style=\"text-align: right;\">\n      <th></th>\n      <th>VEHCOUNT</th>\n    </tr>\n  </thead>\n  <tbody>\n    <tr>\n      <th>2</th>\n      <td>145668</td>\n    </tr>\n    <tr>\n      <th>1</th>\n      <td>25550</td>\n    </tr>\n    <tr>\n      <th>3</th>\n      <td>12940</td>\n    </tr>\n    <tr>\n      <th>4</th>\n      <td>2418</td>\n    </tr>\n    <tr>\n      <th>5</th>\n      <td>529</td>\n    </tr>\n    <tr>\n      <th>0</th>\n      <td>197</td>\n    </tr>\n    <tr>\n      <th>6</th>\n      <td>144</td>\n    </tr>\n    <tr>\n      <th>7</th>\n      <td>46</td>\n    </tr>\n    <tr>\n      <th>8</th>\n      <td>15</td>\n    </tr>\n    <tr>\n      <th>9</th>\n      <td>9</td>\n    </tr>\n    <tr>\n      <th>11</th>\n      <td>6</td>\n    </tr>\n    <tr>\n      <th>10</th>\n      <td>2</td>\n    </tr>\n    <tr>\n      <th>12</th>\n      <td>1</td>\n    </tr>\n  </tbody>\n</table>\n</div>",
                        "text/plain": "    VEHCOUNT\n2     145668\n1      25550\n3      12940\n4       2418\n5        529\n0        197\n6        144\n7         46\n8         15\n9          9\n11         6\n10         2\n12         1"
                    },
                    "execution_count": 57,
                    "metadata": {},
                    "output_type": "execute_result"
                }
            ],
            "source": "df['VEHCOUNT'].value_counts().to_frame()"
        },
        {
            "cell_type": "code",
            "execution_count": 59,
            "metadata": {},
            "outputs": [
                {
                    "data": {
                        "text/html": "<div>\n<style scoped>\n    .dataframe tbody tr th:only-of-type {\n        vertical-align: middle;\n    }\n\n    .dataframe tbody tr th {\n        vertical-align: top;\n    }\n\n    .dataframe thead th {\n        text-align: right;\n    }\n</style>\n<table border=\"1\" class=\"dataframe\">\n  <thead>\n    <tr style=\"text-align: right;\">\n      <th></th>\n      <th>ADDRTYPE</th>\n    </tr>\n  </thead>\n  <tbody>\n    <tr>\n      <th>Block</th>\n      <td>123321</td>\n    </tr>\n    <tr>\n      <th>Intersection</th>\n      <td>63462</td>\n    </tr>\n    <tr>\n      <th>Alley</th>\n      <td>742</td>\n    </tr>\n  </tbody>\n</table>\n</div>",
                        "text/plain": "              ADDRTYPE\nBlock           123321\nIntersection     63462\nAlley              742"
                    },
                    "execution_count": 59,
                    "metadata": {},
                    "output_type": "execute_result"
                }
            ],
            "source": "df['ADDRTYPE'].value_counts().to_frame()"
        },
        {
            "cell_type": "code",
            "execution_count": 73,
            "metadata": {},
            "outputs": [
                {
                    "data": {
                        "text/html": "<div>\n<style scoped>\n    .dataframe tbody tr th:only-of-type {\n        vertical-align: middle;\n    }\n\n    .dataframe tbody tr th {\n        vertical-align: top;\n    }\n\n    .dataframe thead th {\n        text-align: right;\n    }\n</style>\n<table border=\"1\" class=\"dataframe\">\n  <thead>\n    <tr style=\"text-align: right;\">\n      <th></th>\n      <th>ADDRTYPE_X</th>\n    </tr>\n  </thead>\n  <tbody>\n    <tr>\n      <th>1</th>\n      <td>123321</td>\n    </tr>\n    <tr>\n      <th>2</th>\n      <td>63462</td>\n    </tr>\n    <tr>\n      <th>3</th>\n      <td>742</td>\n    </tr>\n  </tbody>\n</table>\n</div>",
                        "text/plain": "   ADDRTYPE_X\n1      123321\n2       63462\n3         742"
                    },
                    "execution_count": 73,
                    "metadata": {},
                    "output_type": "execute_result"
                }
            ],
            "source": "filt_adt = {'Block':1,'Intersection':2,'Alley':3}\ndf['ADDRTYPE_X'] = df['ADDRTYPE'].replace(filt_adt)\ndf['ADDRTYPE_X'].value_counts().to_frame()"
        },
        {
            "cell_type": "code",
            "execution_count": 76,
            "metadata": {},
            "outputs": [
                {
                    "data": {
                        "text/html": "<div>\n<style scoped>\n    .dataframe tbody tr th:only-of-type {\n        vertical-align: middle;\n    }\n\n    .dataframe tbody tr th {\n        vertical-align: top;\n    }\n\n    .dataframe thead th {\n        text-align: right;\n    }\n</style>\n<table border=\"1\" class=\"dataframe\">\n  <thead>\n    <tr style=\"text-align: right;\">\n      <th></th>\n      <th>PERSONCOUNT</th>\n    </tr>\n  </thead>\n  <tbody>\n    <tr>\n      <th>2</th>\n      <td>109569</td>\n    </tr>\n    <tr>\n      <th>3</th>\n      <td>34988</td>\n    </tr>\n    <tr>\n      <th>4</th>\n      <td>14389</td>\n    </tr>\n    <tr>\n      <th>1</th>\n      <td>11582</td>\n    </tr>\n    <tr>\n      <th>5</th>\n      <td>6560</td>\n    </tr>\n    <tr>\n      <th>0</th>\n      <td>5505</td>\n    </tr>\n    <tr>\n      <th>6</th>\n      <td>2695</td>\n    </tr>\n    <tr>\n      <th>7</th>\n      <td>1126</td>\n    </tr>\n    <tr>\n      <th>8</th>\n      <td>533</td>\n    </tr>\n    <tr>\n      <th>9</th>\n      <td>214</td>\n    </tr>\n    <tr>\n      <th>10</th>\n      <td>127</td>\n    </tr>\n    <tr>\n      <th>11</th>\n      <td>56</td>\n    </tr>\n    <tr>\n      <th>12</th>\n      <td>33</td>\n    </tr>\n    <tr>\n      <th>13</th>\n      <td>21</td>\n    </tr>\n    <tr>\n      <th>14</th>\n      <td>19</td>\n    </tr>\n    <tr>\n      <th>15</th>\n      <td>11</td>\n    </tr>\n    <tr>\n      <th>17</th>\n      <td>11</td>\n    </tr>\n    <tr>\n      <th>16</th>\n      <td>8</td>\n    </tr>\n    <tr>\n      <th>44</th>\n      <td>6</td>\n    </tr>\n    <tr>\n      <th>18</th>\n      <td>6</td>\n    </tr>\n    <tr>\n      <th>20</th>\n      <td>6</td>\n    </tr>\n    <tr>\n      <th>25</th>\n      <td>6</td>\n    </tr>\n    <tr>\n      <th>19</th>\n      <td>5</td>\n    </tr>\n    <tr>\n      <th>26</th>\n      <td>4</td>\n    </tr>\n    <tr>\n      <th>22</th>\n      <td>4</td>\n    </tr>\n    <tr>\n      <th>27</th>\n      <td>3</td>\n    </tr>\n    <tr>\n      <th>28</th>\n      <td>3</td>\n    </tr>\n    <tr>\n      <th>29</th>\n      <td>3</td>\n    </tr>\n    <tr>\n      <th>47</th>\n      <td>3</td>\n    </tr>\n    <tr>\n      <th>32</th>\n      <td>3</td>\n    </tr>\n    <tr>\n      <th>34</th>\n      <td>3</td>\n    </tr>\n    <tr>\n      <th>37</th>\n      <td>3</td>\n    </tr>\n    <tr>\n      <th>23</th>\n      <td>2</td>\n    </tr>\n    <tr>\n      <th>21</th>\n      <td>2</td>\n    </tr>\n    <tr>\n      <th>24</th>\n      <td>2</td>\n    </tr>\n    <tr>\n      <th>30</th>\n      <td>2</td>\n    </tr>\n    <tr>\n      <th>36</th>\n      <td>2</td>\n    </tr>\n    <tr>\n      <th>57</th>\n      <td>1</td>\n    </tr>\n    <tr>\n      <th>31</th>\n      <td>1</td>\n    </tr>\n    <tr>\n      <th>35</th>\n      <td>1</td>\n    </tr>\n    <tr>\n      <th>39</th>\n      <td>1</td>\n    </tr>\n    <tr>\n      <th>41</th>\n      <td>1</td>\n    </tr>\n    <tr>\n      <th>43</th>\n      <td>1</td>\n    </tr>\n    <tr>\n      <th>48</th>\n      <td>1</td>\n    </tr>\n    <tr>\n      <th>53</th>\n      <td>1</td>\n    </tr>\n    <tr>\n      <th>54</th>\n      <td>1</td>\n    </tr>\n    <tr>\n      <th>81</th>\n      <td>1</td>\n    </tr>\n  </tbody>\n</table>\n</div>",
                        "text/plain": "    PERSONCOUNT\n2        109569\n3         34988\n4         14389\n1         11582\n5          6560\n0          5505\n6          2695\n7          1126\n8           533\n9           214\n10          127\n11           56\n12           33\n13           21\n14           19\n15           11\n17           11\n16            8\n44            6\n18            6\n20            6\n25            6\n19            5\n26            4\n22            4\n27            3\n28            3\n29            3\n47            3\n32            3\n34            3\n37            3\n23            2\n21            2\n24            2\n30            2\n36            2\n57            1\n31            1\n35            1\n39            1\n41            1\n43            1\n48            1\n53            1\n54            1\n81            1"
                    },
                    "execution_count": 76,
                    "metadata": {},
                    "output_type": "execute_result"
                }
            ],
            "source": "df['PERSONCOUNT'].value_counts().to_frame()"
        },
        {
            "cell_type": "code",
            "execution_count": 77,
            "metadata": {},
            "outputs": [
                {
                    "data": {
                        "text/html": "<div>\n<style scoped>\n    .dataframe tbody tr th:only-of-type {\n        vertical-align: middle;\n    }\n\n    .dataframe tbody tr th {\n        vertical-align: top;\n    }\n\n    .dataframe thead th {\n        text-align: right;\n    }\n</style>\n<table border=\"1\" class=\"dataframe\">\n  <thead>\n    <tr style=\"text-align: right;\">\n      <th></th>\n      <th>SEVERITYCODE</th>\n      <th>WEATHER</th>\n      <th>ROADCOND</th>\n      <th>LIGHTCOND</th>\n      <th>VEHCOUNT</th>\n      <th>ADDRTYPE</th>\n      <th>PERSONCOUNT</th>\n      <th>WEATHER_X</th>\n      <th>ROADCOND_X</th>\n      <th>LIGHTCOND_X</th>\n      <th>ADDRTYPE_X</th>\n    </tr>\n  </thead>\n  <tbody>\n    <tr>\n      <th>0</th>\n      <td>2</td>\n      <td>Overcast</td>\n      <td>Wet</td>\n      <td>Daylight</td>\n      <td>2</td>\n      <td>Intersection</td>\n      <td>2</td>\n      <td>3</td>\n      <td>2</td>\n      <td>1</td>\n      <td>2</td>\n    </tr>\n    <tr>\n      <th>1</th>\n      <td>1</td>\n      <td>Raining</td>\n      <td>Wet</td>\n      <td>Dark - Street Lights On</td>\n      <td>2</td>\n      <td>Block</td>\n      <td>2</td>\n      <td>2</td>\n      <td>2</td>\n      <td>2</td>\n      <td>1</td>\n    </tr>\n    <tr>\n      <th>2</th>\n      <td>1</td>\n      <td>Overcast</td>\n      <td>Dry</td>\n      <td>Daylight</td>\n      <td>3</td>\n      <td>Block</td>\n      <td>4</td>\n      <td>3</td>\n      <td>1</td>\n      <td>1</td>\n      <td>1</td>\n    </tr>\n    <tr>\n      <th>3</th>\n      <td>1</td>\n      <td>Clear</td>\n      <td>Dry</td>\n      <td>Daylight</td>\n      <td>3</td>\n      <td>Block</td>\n      <td>3</td>\n      <td>1</td>\n      <td>1</td>\n      <td>1</td>\n      <td>1</td>\n    </tr>\n    <tr>\n      <th>4</th>\n      <td>2</td>\n      <td>Raining</td>\n      <td>Wet</td>\n      <td>Daylight</td>\n      <td>2</td>\n      <td>Intersection</td>\n      <td>2</td>\n      <td>2</td>\n      <td>2</td>\n      <td>1</td>\n      <td>2</td>\n    </tr>\n  </tbody>\n</table>\n</div>",
                        "text/plain": "   SEVERITYCODE   WEATHER ROADCOND                LIGHTCOND  VEHCOUNT  \\\n0             2  Overcast      Wet                 Daylight         2   \n1             1   Raining      Wet  Dark - Street Lights On         2   \n2             1  Overcast      Dry                 Daylight         3   \n3             1     Clear      Dry                 Daylight         3   \n4             2   Raining      Wet                 Daylight         2   \n\n       ADDRTYPE  PERSONCOUNT  WEATHER_X  ROADCOND_X  LIGHTCOND_X  ADDRTYPE_X  \n0  Intersection            2          3           2            1           2  \n1         Block            2          2           2            2           1  \n2         Block            4          3           1            1           1  \n3         Block            3          1           1            1           1  \n4  Intersection            2          2           2            1           2  "
                    },
                    "execution_count": 77,
                    "metadata": {},
                    "output_type": "execute_result"
                }
            ],
            "source": "df.head()"
        },
        {
            "cell_type": "code",
            "execution_count": 78,
            "metadata": {},
            "outputs": [
                {
                    "data": {
                        "text/plain": "SEVERITYCODE     int64\nWEATHER         object\nROADCOND        object\nLIGHTCOND       object\nVEHCOUNT         int64\nADDRTYPE        object\nPERSONCOUNT      int64\nWEATHER_X        int64\nROADCOND_X       int64\nLIGHTCOND_X      int64\nADDRTYPE_X       int64\ndtype: object"
                    },
                    "execution_count": 78,
                    "metadata": {},
                    "output_type": "execute_result"
                }
            ],
            "source": "df.dtypes"
        },
        {
            "cell_type": "code",
            "execution_count": 79,
            "metadata": {},
            "outputs": [
                {
                    "data": {
                        "text/plain": "2    56883\n1    56883\nName: SEVERITYCODE, dtype: int64"
                    },
                    "execution_count": 79,
                    "metadata": {},
                    "output_type": "execute_result"
                }
            ],
            "source": "# Separate majority and minority classes\n\ndf_majority = df[df['SEVERITYCODE']==1]\ndf_minority = df[df['SEVERITYCODE']==2]\n\n# downsample mijority class\ndf_maj_downsample = resample(df_majority,replace=False,n_samples=56883,random_state = 123)\nbalanced_df = pd.concat([df_maj_downsample,df_minority])\n\n# Display new class counts\nbalanced_df.SEVERITYCODE.value_counts()"
        },
        {
            "cell_type": "code",
            "execution_count": 80,
            "metadata": {},
            "outputs": [
                {
                    "data": {
                        "text/plain": "Index(['SEVERITYCODE', 'WEATHER', 'ROADCOND', 'LIGHTCOND', 'VEHCOUNT',\n       'ADDRTYPE', 'PERSONCOUNT', 'WEATHER_X', 'ROADCOND_X', 'LIGHTCOND_X',\n       'ADDRTYPE_X'],\n      dtype='object')"
                    },
                    "execution_count": 80,
                    "metadata": {},
                    "output_type": "execute_result"
                }
            ],
            "source": "balanced_df.columns\n"
        },
        {
            "cell_type": "markdown",
            "metadata": {},
            "source": "## Defining X & Y"
        },
        {
            "cell_type": "code",
            "execution_count": 81,
            "metadata": {},
            "outputs": [
                {
                    "data": {
                        "text/plain": "array([[2, 1, 2, 0, 0, 0],\n       [3, 1, 3, 1, 1, 2],\n       [2, 1, 3, 1, 1, 1],\n       [2, 2, 4, 1, 1, 1],\n       [2, 1, 2, 1, 1, 2]])"
                    },
                    "execution_count": 81,
                    "metadata": {},
                    "output_type": "execute_result"
                }
            ],
            "source": "X = np.asarray(balanced_df[['VEHCOUNT', 'ADDRTYPE_X', 'PERSONCOUNT', 'WEATHER_X', 'ROADCOND_X', 'LIGHTCOND_X']])\nX[0:5]"
        },
        {
            "cell_type": "code",
            "execution_count": 82,
            "metadata": {},
            "outputs": [
                {
                    "data": {
                        "text/plain": "array([1, 1, 1, 1, 1])"
                    },
                    "execution_count": 82,
                    "metadata": {},
                    "output_type": "execute_result"
                }
            ],
            "source": "Y = np.asarray(balanced_df['SEVERITYCODE'])\nY[0:5]"
        },
        {
            "cell_type": "markdown",
            "metadata": {},
            "source": "## Database Normalization"
        },
        {
            "cell_type": "code",
            "execution_count": 84,
            "metadata": {},
            "outputs": [
                {
                    "data": {
                        "text/plain": "array([[ 0.08131764, -0.78059527, -0.37908188, -1.61136633, -2.00414872,\n        -1.61296557],\n       [ 1.7327247 , -0.78059527,  0.32899156, -0.51547385, -0.38450317,\n         0.7317909 ],\n       [ 0.08131764, -0.78059527,  0.32899156, -0.51547385, -0.38450317,\n        -0.44058734],\n       [ 0.08131764,  1.24664304,  1.03706501, -0.51547385, -0.38450317,\n        -0.44058734],\n       [ 0.08131764, -0.78059527, -0.37908188, -0.51547385, -0.38450317,\n         0.7317909 ]])"
                    },
                    "execution_count": 84,
                    "metadata": {},
                    "output_type": "execute_result"
                }
            ],
            "source": "X = preprocessing.StandardScaler().fit(X.astype(float)).transform(X)\nX[0:5]"
        },
        {
            "cell_type": "markdown",
            "metadata": {},
            "source": "## Train/Test Split of data"
        },
        {
            "cell_type": "code",
            "execution_count": 87,
            "metadata": {},
            "outputs": [
                {
                    "name": "stdout",
                    "output_type": "stream",
                    "text": "Train set:  (79636, 6) (79636,)\nTest set:  (34130, 6) (34130,)\n"
                }
            ],
            "source": "X_train,X_test,Y_train,Y_test = train_test_split(X,Y,test_size=0.3,random_state=42)\nprint('Train set: ',X_train.shape,Y_train.shape)\nprint('Test set: ',X_test.shape,Y_test.shape)"
        },
        {
            "cell_type": "markdown",
            "metadata": {},
            "source": "## Implementing Logistric Regresion"
        },
        {
            "cell_type": "code",
            "execution_count": 98,
            "metadata": {},
            "outputs": [
                {
                    "name": "stderr",
                    "output_type": "stream",
                    "text": "/opt/conda/envs/Python36/lib/python3.6/site-packages/sklearn/linear_model/logistic.py:433: FutureWarning: Default solver will be changed to 'lbfgs' in 0.22. Specify a solver to silence this warning.\n  FutureWarning)\n"
                },
                {
                    "data": {
                        "text/plain": "array([1, 1, 1, ..., 1, 2, 2])"
                    },
                    "execution_count": 98,
                    "metadata": {},
                    "output_type": "execute_result"
                }
            ],
            "source": "# import the class\nfrom sklearn.linear_model import LogisticRegression\n\n# instantiate the model (using the default parameters)\nlogreg = LogisticRegression()\n\n# fit the model with data\nlogreg.fit(X, Y)\n\n# predict the response values for the observations in X\nlogreg.predict(X)"
        },
        {
            "cell_type": "code",
            "execution_count": 99,
            "metadata": {},
            "outputs": [
                {
                    "data": {
                        "text/plain": "113766"
                    },
                    "execution_count": 99,
                    "metadata": {},
                    "output_type": "execute_result"
                }
            ],
            "source": "# store the predicted response values\nY_pred = logreg.predict(X)\n\n# check how many predictions were generated\nlen(Y_pred)"
        },
        {
            "cell_type": "code",
            "execution_count": 100,
            "metadata": {},
            "outputs": [
                {
                    "name": "stdout",
                    "output_type": "stream",
                    "text": "0.6421338536996993\n"
                }
            ],
            "source": "# compute classification accuracy for the logistic regression model\nfrom sklearn import metrics\n\nprint(metrics.accuracy_score(Y, Y_pred))"
        },
        {
            "cell_type": "markdown",
            "metadata": {},
            "source": "## Implement K Nearest Neighbours (KNN)"
        },
        {
            "cell_type": "code",
            "execution_count": 105,
            "metadata": {},
            "outputs": [
                {
                    "name": "stdout",
                    "output_type": "stream",
                    "text": "0.6341173988713675\n"
                }
            ],
            "source": "from sklearn.neighbors import KNeighborsClassifier\nknn = KNeighborsClassifier(n_neighbors=35)\nknn.fit(X, Y)\nY_pred = knn.predict(X)\nprint(metrics.accuracy_score(Y, Y_pred))"
        },
        {
            "cell_type": "code",
            "execution_count": null,
            "metadata": {},
            "outputs": [],
            "source": ""
        }
    ],
    "metadata": {
        "kernelspec": {
            "display_name": "Python 3.6",
            "language": "python",
            "name": "python3"
        },
        "language_info": {
            "codemirror_mode": {
                "name": "ipython",
                "version": 3
            },
            "file_extension": ".py",
            "mimetype": "text/x-python",
            "name": "python",
            "nbconvert_exporter": "python",
            "pygments_lexer": "ipython3",
            "version": "3.6.9"
        }
    },
    "nbformat": 4,
    "nbformat_minor": 1
}