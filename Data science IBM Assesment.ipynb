{
    "cells": [
        {
            "metadata": {
                "collapsed": true
            },
            "cell_type": "markdown",
            "source": "# My Jupyter Notebook on IBM Watson Studio"
        },
        {
            "metadata": {},
            "cell_type": "markdown",
            "source": "**Tamer Doghem**"
        },
        {
            "metadata": {},
            "cell_type": "markdown",
            "source": "i am interest to work as data scientist because i like working with data and working now production Engineer"
        },
        {
            "metadata": {},
            "cell_type": "markdown",
            "source": "_I like becasue in enjoy troubleshooting and problem solving and the data in something critical_"
        },
        {
            "metadata": {},
            "cell_type": "markdown",
            "source": "### In the following cell, we will test the multiplication and subtraction technique"
        },
        {
            "metadata": {},
            "cell_type": "code",
            "source": "1+8-4",
            "execution_count": 7,
            "outputs": [
                {
                    "output_type": "execute_result",
                    "execution_count": 7,
                    "data": {
                        "text/plain": "5"
                    },
                    "metadata": {}
                }
            ]
        },
        {
            "metadata": {},
            "cell_type": "markdown",
            "source": "#### my class friends\n1. Ahmed \n2. mohamed\n3. mahmoud\n4. ayman\n5. ayat\n6. amr"
        },
        {
            "metadata": {},
            "cell_type": "markdown",
            "source": "### [My Linkedin Profile](https://www.linkedin.com)"
        },
        {
            "metadata": {},
            "cell_type": "markdown",
            "source": "## my hogh scool results\n![alt text](https://github.com/adam-p/markdown-here/raw/master/src/common/images/icon48.png \"Logo Title Text 1\")"
        },
        {
            "metadata": {},
            "cell_type": "markdown",
            "source": "\n| HS subject    | Grade         | %     |\n| ------------- |:-------------:| -----:|\n| chemistry     | 49/50         |  98%  |\n| physics       | 42/50         |  84%  |\n| math          | 45/50         |  90%  |"
        },
        {
            "metadata": {},
            "cell_type": "code",
            "source": "",
            "execution_count": null,
            "outputs": []
        }
    ],
    "metadata": {
        "kernelspec": {
            "name": "python3",
            "display_name": "Python 3.6",
            "language": "python"
        },
        "language_info": {
            "name": "python",
            "version": "3.6.9",
            "mimetype": "text/x-python",
            "codemirror_mode": {
                "name": "ipython",
                "version": 3
            },
            "pygments_lexer": "ipython3",
            "nbconvert_exporter": "python",
            "file_extension": ".py"
        }
    },
    "nbformat": 4,
    "nbformat_minor": 1
}